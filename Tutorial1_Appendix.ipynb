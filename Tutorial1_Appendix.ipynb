{
 "cells": [
  {
   "cell_type": "markdown",
   "metadata": {},
   "source": [
    "# Tutorial 1 Appendix"
   ]
  },
  {
   "cell_type": "markdown",
   "metadata": {},
   "source": [
    "Version: 1.3 (January 2020)"
   ]
  },
  {
   "cell_type": "markdown",
   "metadata": {},
   "source": [
    "This appendix prodivdes the code for the preparation of the data sets used in Tutorial 1. The general steps are as follows:\n",
    "\n",
    "1. Retrieve a reference *Escherichia coli* genome assembly via FTP from NCBI, filter out to only the terms we want\n",
    "2. Download and select two random genomes from a list (we have ~30 students, so 9 genomes should suffice for unique pairs).\n",
    "3. BLAST the genes from 1. against the genes from the genomes presented in 2, returning any strong hits.\n",
    "4. Write the strongest hit to a file\n",
    "\n",
    "This was written and run on Windows (as a challenge to myself), but it should work anywhere."
   ]
  },
  {
   "cell_type": "code",
   "execution_count": 14,
   "metadata": {},
   "outputs": [],
   "source": [
    "# Change to False if you want to actually run the data-prep code\n",
    "# This is just to mask some code when we want to import the functions\n",
    "# for the assignment.\n",
    "just_defs = True"
   ]
  },
  {
   "cell_type": "code",
   "execution_count": 15,
   "metadata": {},
   "outputs": [],
   "source": [
    "import os\n",
    "import subprocess\n",
    "import gzip\n",
    "from ftplib import FTP\n",
    "from itertools import combinations\n",
    "import random\n",
    "\n",
    "if not just_defs:\n",
    "    from Bio.Blast.Applications import NcbiblastpCommandline\n",
    "    from Bio.Blast import NCBIXML"
   ]
  },
  {
   "cell_type": "code",
   "execution_count": 8,
   "metadata": {},
   "outputs": [],
   "source": [
    "reference_genome = \"GCA_000005845\" #Escherichia coli K-12 strain MG1655\n",
    "genomes = [\"GCA_001553935\", #Actinomyces oris\n",
    "           \"GCA_002734145\", #Faecalibacterium prausnitzii\n",
    "           \"GCA_000008805\", #Neisseria meningitidis\n",
    "           \"GCA_000008625\", #Aquifex aeolicus\n",
    "           \"GCA_000513215\", #Serratia marcescens\n",
    "           \"GCA_000008565\", #Deinococcus radiodurans\n",
    "           \"GCA_000237865\", #Haloquadratum walsbyi\n",
    "           \"GCA_000238215\", #Tannerella forsythia\n",
    "           \"GCA_000011805\"] #Vibrio fischeri"
   ]
  },
  {
   "cell_type": "code",
   "execution_count": 13,
   "metadata": {},
   "outputs": [
    {
     "data": {
      "text/plain": [
       "('GCA_001553935', 'GCA_000513215')"
      ]
     },
     "execution_count": 13,
     "metadata": {},
     "output_type": "execute_result"
    }
   ],
   "source": [
    "# Assign a genome pair to each student, providing a function that they can use to get their filenames\n",
    "def get_genome_pair():\n",
    "    genome_pairs = list(combinations(genomes, 2))\n",
    "    return random.choice(genome_pairs)\n",
    "#Example, showing my genome pair\n",
    "get_genome_pair() "
   ]
  },
  {
   "cell_type": "code",
   "execution_count": 5,
   "metadata": {
    "collapsed": true
   },
   "outputs": [],
   "source": [
    "if not just_defs:\n",
    "    os.chdir(\"tutorial1_appendix_data\")"
   ]
  },
  {
   "cell_type": "markdown",
   "metadata": {
    "collapsed": true
   },
   "source": [
    "# 1. Download Reference Genome"
   ]
  },
  {
   "cell_type": "code",
   "execution_count": 6,
   "metadata": {
    "collapsed": true
   },
   "outputs": [],
   "source": [
    "def fetch_protein_set(genome_id, out_file):\n",
    "    filenames = []\n",
    "    def get_name(line):\n",
    "        filenames.append(line.split(\" \")[-1])\n",
    "    genome_split = genome_id.split(\"_\")\n",
    "    ftp = FTP(\"ftp.ncbi.nlm.nih.gov\")\n",
    "    ftp.login(user='anonymous',passwd='')\n",
    "    ftp.cwd(\"genomes/all/\")\n",
    "    # Build most of the URL to the genome on the FTP server\n",
    "    genome_uri = genome_split[0] + \"/\" + genome_split[1][0:3] + \"/\" + genome_split[1][3:6] + \"/\" + genome_split[1][6:9]\n",
    "    ftp.cwd(genome_uri)\n",
    "    # Request the revisions\n",
    "    code = ftp.retrlines(\"LIST\", callback=get_name)\n",
    "    # Take the most recent genome revision\n",
    "    genome_revision = filenames[-1]\n",
    "    ftp.cwd(genome_revision)\n",
    "    # Download it\n",
    "    ftp.retrbinary('RETR %s_protein.faa.gz' % (genome_revision,), open(out_file, 'wb').write)"
   ]
  },
  {
   "cell_type": "code",
   "execution_count": 7,
   "metadata": {
    "collapsed": true
   },
   "outputs": [],
   "source": [
    "if not just_defs:\n",
    "    fetch_protein_set(reference_genome, \"reference_proteins.faa.gz\")"
   ]
  },
  {
   "cell_type": "code",
   "execution_count": 8,
   "metadata": {
    "collapsed": true
   },
   "outputs": [],
   "source": [
    "def filter_genome(in_file, out_file):\n",
    "    # Filter the .faa file to only keep the items with 'ribosome', 'translation', or 'tRNA' in the description\n",
    "    seq = False\n",
    "    with open(out_file, 'w') as subset_file:\n",
    "        for line in gzip.open(in_file,'rt'):\n",
    "            line = str(line)\n",
    "            if (line[0] == \">\"):\n",
    "                if any(x in line.lower() for x in ['ribosome','trna','translation','ribosomal']):\n",
    "                    seq = True\n",
    "                    subset_file.write(line)\n",
    "                else:\n",
    "                    seq = False\n",
    "            else:\n",
    "                if seq:\n",
    "                    subset_file.write(line)"
   ]
  },
  {
   "cell_type": "code",
   "execution_count": 9,
   "metadata": {
    "collapsed": true
   },
   "outputs": [],
   "source": [
    "if not just_defs:\n",
    "    filter_genome(\"reference_proteins.faa.gz\", \"subset_reference.faa\")"
   ]
  },
  {
   "cell_type": "markdown",
   "metadata": {},
   "source": [
    "## 2. Download Other Genomes"
   ]
  },
  {
   "cell_type": "code",
   "execution_count": 10,
   "metadata": {
    "collapsed": true
   },
   "outputs": [],
   "source": [
    "# Just a simple little gunzipper\n",
    "def decompress_file(in_file, out_file):\n",
    "    with gzip.open(in_file, 'rt') as f:\n",
    "        with open(out_file, 'w') as o:\n",
    "            for line in f:\n",
    "                o.write(str(line))"
   ]
  },
  {
   "cell_type": "code",
   "execution_count": 11,
   "metadata": {
    "collapsed": true
   },
   "outputs": [],
   "source": [
    "if not just_defs:\n",
    "    for genome_id in genomes:\n",
    "        fetch_protein_set(genome_id, genome_id + \".faa.gz\")\n",
    "        decompress_file(genome_id + \".faa.gz\", genome_id + \".faa\")\n",
    "        #Format a BLAST database for each one\n",
    "        #Windows: makeblastdb.exe\n",
    "        #UNIX/MacOS: makeblastdb\n",
    "        subprocess.run(\"makeblastdb.exe -in %s.faa -dbtype prot -out %s\" % (genome_id, genome_id))"
   ]
  },
  {
   "cell_type": "markdown",
   "metadata": {},
   "source": [
    "## 3. BLAST Genomes to Reference"
   ]
  },
  {
   "cell_type": "code",
   "execution_count": 12,
   "metadata": {
    "collapsed": true
   },
   "outputs": [],
   "source": [
    "if not just_defs:\n",
    "    #For each of the genomes, blast the reference subset to find the closest protein match\n",
    "    #Store the results in XML filesTb\n",
    "    for genome_id in genomes:\n",
    "        blast_res = NcbiblastpCommandline(cmd=\"blastp\", query=\"subset_reference.faa\", db=genome_id,\n",
    "                                          evalue=1e-10, outfmt=5, out=\"reference_%s.xml\" % (genome_id,))\n",
    "        blast_res()"
   ]
  },
  {
   "cell_type": "markdown",
   "metadata": {},
   "source": [
    "## 4. Filter Genomes to Best Hits Against Reference"
   ]
  },
  {
   "cell_type": "code",
   "execution_count": 13,
   "metadata": {
    "collapsed": true
   },
   "outputs": [],
   "source": [
    "if not just_defs:\n",
    "    # Iterate through BLAST results, pulling the accessions from the best hits for each sequence, \n",
    "    # if any hit above the e-value threshold exists\n",
    "    for genome_id in genomes:\n",
    "        result_handle = open(\"reference_%s.xml\" % (genome_id,))\n",
    "        blast_records = NCBIXML.parse(result_handle)\n",
    "        best_hit_labels = []\n",
    "        skipped = 0\n",
    "        for blast_record in blast_records:\n",
    "            if blast_record.alignments:\n",
    "                # Add the accession\n",
    "                best_hit_labels.append(blast_record.alignments[0].title.split(\" \")[1])\n",
    "            else:\n",
    "                skipped += 1\n",
    "        result_handle.close()\n",
    "        \n",
    "        # Now loop through the original faa files and pull out the right sequences\n",
    "        seq = False\n",
    "        # Note that one of the E. coli genes might hit more than one of the same gene from a genome\n",
    "        # Meaning that you may end up with fewer genes than the reference set\n",
    "        with open(genome_id + \"_subset.faa\", 'w') as subset_file:\n",
    "            with open(genome_id + \".faa\", 'r') as fasta_file:\n",
    "                for line in fasta_file:\n",
    "                    if (line[0] == \">\"):\n",
    "                        if any(x in line.strip() for x in best_hit_labels):\n",
    "                            seq = True\n",
    "                            subset_file.write(line)\n",
    "                        else:\n",
    "                            seq = False\n",
    "                    else:\n",
    "                        if seq:\n",
    "                            subset_file.write(line)"
   ]
  }
 ],
 "metadata": {
  "kernelspec": {
   "display_name": "Python 3",
   "language": "python",
   "name": "python3"
  },
  "language_info": {
   "codemirror_mode": {
    "name": "ipython",
    "version": 3
   },
   "file_extension": ".py",
   "mimetype": "text/x-python",
   "name": "python",
   "nbconvert_exporter": "python",
   "pygments_lexer": "ipython3",
   "version": "3.7.3"
  }
 },
 "nbformat": 4,
 "nbformat_minor": 2
}
